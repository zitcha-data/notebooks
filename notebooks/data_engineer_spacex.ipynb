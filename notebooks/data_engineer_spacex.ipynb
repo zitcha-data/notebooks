{
  "cells": [
    {
      "cell_type": "markdown",
      "metadata": {},
      "source": [
        "# SpaceX API Data Ingestion and SQL Analysis\n",
        "\n",
        "This exercise is designed to assess your Python and SQL skills while working with real-world data. You will interact with the SpaceX API, store the data in a structured format, and perform analysis using Python and SQL.\n",
        "\n",
        "## Overview\n",
        "\n",
        "SpaceX provides a public API that exposes detailed information about their launches, rockets, crew members, and more. In this exercise, we will work with the following API endpoints:\n",
        "\n",
        "- **Launches:** `/v4/launches` - Provides detailed information about SpaceX launches, including launch dates, rocket IDs, and crew IDs.\n",
        "- **Rockets:** `/v4/rockets` - Provides information about SpaceX rockets, such as their names and IDs.\n",
        "- **Crew:** `/v4/crew` - Provides information about astronauts who have been part of SpaceX missions, including their names, agencies, and associated launches.\n",
        "\n",
        "Your objective is to:\n",
        "\n",
        "1. Explore the SpaceX API and understand the data returned by these endpoints.\n",
        "2. Set up a Python class to manage and process the data.\n",
        "3. Store the data in an SQLite database.\n",
        "4. Write Python functions to interact with the database and answer key questions."
      ]
    },
    {
      "cell_type": "markdown",
      "metadata": {},
      "source": [
        "## Step 1: Explore the SpaceX API\n",
        "\n",
        "### Task\n",
        "\n",
        "1. Visit the [SpaceX API documentation](https://github.com/r-spacex/SpaceX-API) and familiarise yourself with the structure of the data returned by the `/v4/launches`, `/v4/rockets`, and `/v4/crew` endpoints.\n",
        "\n",
        "2. Write Python code to:\n",
        "   - Fetch data from these three endpoints using the `requests` library.\n",
        "   - Print a sample of the data (e.g., the first 2-3 records) to understand its structure and the fields available.\n",
        "\n",
        "3. Take note of key fields, such as `id`, `rocket`, `date_utc` in the `launches` endpoint and `name`, `agency` in the `crew` endpoint, which you will need for further processing.\n",
        "\n",
        "### Example Output\n",
        "For `/v4/launches`, you should identify fields like:\n",
        "\n",
        "- `id`: The unique identifier for a launch.\n",
        "- `rocket`: The ID of the rocket used in the launch.\n",
        "- `date_utc`: The UTC date and time of the launch.\n",
        "- `crew`: A list of crew member IDs associated with the launch.\n",
        "\n",
        "Write the code below."
      ]
    },
    {
      "cell_type": "code",
      "metadata": {},
      "source": [
        "import requests\n",
        "\n",
        "# Fetch data from SpaceX API\n",
        "launches_url = \"https://api.spacexdata.com/v4/launches\"\n",
        "rockets_url = \"https://api.spacexdata.com/v4/rockets\"\n",
        "crew_url = \"https://api.spacexdata.com/v4/crew\"\n",
        "\n",
        "# Fetch and explore launches data\n",
        "launches_response = requests.get(launches_url)\n",
        "launches_data = launches_response.json()\n",
        "print(\"Sample Launch Data:\", launches_data[:3])\n",
        "\n",
        "# Fetch and explore rockets data\n",
        "rockets_response = requests.get(rockets_url)\n",
        "rockets_data = rockets_response.json()\n",
        "print(\"Sample Rocket Data:\", rockets_data[:3])\n",
        "\n",
        "# Fetch and explore crew data\n",
        "crew_response = requests.get(crew_url)\n",
        "crew_data = crew_response.json()\n",
        "print(\"Sample Crew Data:\", crew_data[:3])"
      ],
      "execution_count": null,
      "outputs": []
    },
    {
      "cell_type": "markdown",
      "metadata": {},
      "source": [
        "## Step 2: Set Up a Python Class\n",
        "\n",
        "### Task\n",
        "1. Create a Python class `SpaceXDataHandler` to manage and process the data.\n",
        "2. Implement the following features:\n",
        "   - An attribute `launches` to store launch data.\n",
        "   - An attribute `days_since_last_launch` that catalogs the days since the last launch for each launch.\n",
        "   - A method `fetch_launch_data` to fetch launch data from the SpaceX API and populate the `launches` attribute.\n",
        "   - A method `calculate_days_since_last_launch` to calculate the days since the last launch for each launch.\n",
        "\n",
        "3. Print out a sample of the `days_since_last_launch` attribute to verify your implementation.\n",
        "\n",
        "### Expected Output\n",
        "You should see a sample of `days_since_last_launch` like:\n",
        "\n",
        "```\n",
        "Days since last launch for each launch (sample): {'5eb87d47ffd86e000604b38a': 456, '5eb87d48ffd86e000604b38b': 123, ...}\n",
        "```"
      ]
    },
    {
      "cell_type": "code",
      "metadata": {},
      "source": [
        "from datetime import datetime\n",
        "\n",
        "class SpaceXDataHandler:\n",
        "    def __init__(self):\n",
        "        self.launches = []\n",
        "        self.days_since_last_launch = {}\n",
        "\n",
        "    def fetch_launch_data(self):\n",
        "        launches_url = \"https://api.spacexdata.com/v4/launches\"\n",
        "        response = requests.get(launches_url)\n",
        "        response.raise_for_status()\n",
        "        self.launches = response.json()\n",
        "\n",
        "    def calculate_days_since_last_launch(self):\n",
        "        for launch in self.launches:\n",
        "            launch_date = datetime.fromisoformat(launch['date_utc'].replace('Z', ''))\n",
        "            days_since = (datetime.utcnow() - launch_date).days\n",
        "            self.days_since_last_launch[launch['id']] = days_since\n",
        "\n",
        "# Instantiate the class and verify implementation\n",
        "spacex_data = SpaceXDataHandler()\n",
        "spacex_data.fetch_launch_data()\n",
        "spacex_data.calculate_days_since_last_launch()\n",
        "print(\"Days since last launch for each launch (sample):\", list(spacex_data.days_since_last_launch.items())[:5])"
      ],
      "execution_count": null,
      "outputs": []
    },
    {
      "cell_type": "markdown",
      "metadata": {},
      "source": [
        "## Step 3: Store Data in SQLite\n",
        "\n",
        "### Task\n",
        "1. Set up an SQLite database `spacex_data.db`.\n",
        "2. Create three tables:\n",
        "   - `launches`: To store launch data with columns `launch_id`, `rocket_id`, and `launch_date`.\n",
        "   - `rockets`: To store rocket data with columns `rocket_id` and `rocket_name`.\n",
        "   - `crew`: To store crew data with columns `crew_id`, `name`, `agency`, and `launch_id`.\n",
        "\n",
        "3. Insert data into these tables from the SpaceX API.\n",
        "\n",
        "4. Print a sample of each table to verify the data insertion."
      ]
    },
    {
      "cell_type": "code",
      "metadata": {},
      "source": [
        "# Connect to SQLite database\n",
        "conn = sqlite3.connect('spacex_data.db')\n",
        "c = conn.cursor()\n",
        "\n",
        "# Create tables\n",
        "c.execute('''CREATE TABLE IF NOT EXISTS launches (launch_id TEXT PRIMARY KEY, rocket_id TEXT, launch_date TEXT)''')\n",
        "c.execute('''CREATE TABLE IF NOT EXISTS rockets (rocket_id TEXT PRIMARY KEY, rocket_name TEXT)''')\n",
        "c.execute('''CREATE TABLE IF NOT EXISTS crew (crew_id TEXT PRIMARY KEY, name TEXT, agency TEXT, launch_id TEXT)''')\n",
        "\n",
        "# Insert data into launches\n",
        "for launch in spacex_data.launches:\n",
        "    c.execute('''INSERT OR IGNORE INTO launches (launch_id, rocket_id, launch_date) VALUES (?, ?, ?)''',\n",
        "              (launch['id'], launch['rocket'], launch['date_utc']))\n",
        "\n",
        "# Insert data into rockets\n",
        "for rocket in rockets_data:\n",
        "    c.execute('''INSERT OR IGNORE INTO rockets (rocket_id, rocket_name) VALUES (?, ?)''',\n",
        "              (rocket['id'], rocket['name']))\n",
        "\n",
        "# Insert data into crew\n",
        "for member in crew_data:\n",
        "    for launch_id in member['launches']:\n",
        "        c.execute('''INSERT OR IGNORE INTO crew (crew_id, name, agency, launch_id) VALUES (?, ?, ?, ?)''',\n",
        "                  (member['id'], member['name'], member['agency'], launch_id))\n",
        "\n",
        "conn.commit()\n",
        "\n",
        "# Verify data insertion\n",
        "print(\"Sample Launches:\", c.execute('SELECT * FROM launches LIMIT 5').fetchall())\n",
        "print(\"Sample Rockets:\", c.execute('SELECT * FROM rockets LIMIT 5').fetchall())\n",
        "print(\"Sample Crew:\", c.execute('SELECT * FROM crew LIMIT 5').fetchall())"
      ],
      "execution_count": null,
      "outputs": []
    },
    {
      "cell_type": "markdown",
      "metadata": {},
      "source": [
        "## Step 4: Write Python Functions\n",
        "\n",
        "### Task\n",
        "1. Write a function `get_crew_by_launch_id` that takes a `launch_id` as input and retrieves the associated crew members (name and agency) from the SQLite database.\n",
        "2. Test this function with a valid `launch_id` to ensure it works correctly."
      ]
    },
    {
      "cell_type": "code",
      "metadata": {},
      "source": [
        "# Define the function to fetch crew by launch ID\n",
        "def get_crew_by_launch_id(launch_id):\n",
        "    c.execute('''SELECT name, agency FROM crew WHERE launch_id = ?''', (launch_id,))\n",
        "    return c.fetchall()\n",
        "\n",
        "# Test the function\n",
        "sample_launch_id = spacex_data.launches[0]['id']\n",
        "crew = get_crew_by_launch_id(sample_launch_id)\n",
        "print(f\"Crew for launch {sample_launch_id}: {crew}\")"
      ],
      "execution_count": null,
      "outputs": []
    }
  ],
  "metadata": {
    "colab": {
      "name": "SpaceX API Data Ingestion and SQL Analysis (Enhanced).ipynb"
    },
    "kernelspec": {
      "display_name": "Python 3",
      "name": "python3"
    },
    "language_info": {
      "name": "python",
      "version": "3.9.7"
    }
  },
  "nbformat": 4,
  "nbformat_minor": 0
}
