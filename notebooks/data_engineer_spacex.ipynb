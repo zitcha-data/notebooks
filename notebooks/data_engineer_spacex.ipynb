{
  "cells": [
    {
      "cell_type": "markdown",
      "metadata": {},
      "source": [
        "# SpaceX API Data Ingestion and SQL Analysis\n",
        "\n",
        "In this exercise, you will:\n",
        "\n",
        "1. Fetch data from the SpaceX API.\n",
        "2. Store the data in a Python class and perform additional calculations.\n",
        "3. Store the data in an SQLite database.\n",
        "4. Write SQL queries and Python functions to interact with the data."
      ]
    },
    {
      "cell_type": "markdown",
      "metadata": {},
      "source": [
        "## Step 1: Set Up the Python Class\n",
        "\n",
        "You will implement a Python class `SpaceXDataHandler` with the following functionality:\n",
        "\n",
        "1. **Attributes:**\n",
        "   - `launches`: A list to store launch data.\n",
        "   - `days_since_last_launch`: A catalog of the days since the last launch for each launch.\n",
        "\n",
        "2. **Methods:**\n",
        "   - Fetch data from the SpaceX API endpoints and populate the class attributes.\n",
        "   - Calculate `days_since_last_launch` for each launch.\n",
        "\n",
        "Let's implement this class."
      ]
    },
    {
      "cell_type": "code",
      "metadata": {},
      "source": [
        "import requests\n",
        "from datetime import datetime\n",
        "import sqlite3\n",
        "\n",
        "class SpaceXDataHandler:\n",
        "    def __init__(self):\n",
        "        self.launches = []\n",
        "        self.days_since_last_launch = {}\n",
        "\n",
        "    def fetch_launch_data(self):\n",
        "        \"\"\"Fetch launch data from the SpaceX API and populate the launches attribute.\"\"\"\n",
        "        launches_url = \"https://api.spacexdata.com/v4/launches\"\n",
        "        response = requests.get(launches_url)\n",
        "        response.raise_for_status()\n",
        "        self.launches = response.json()\n",
        "        \n",
        "    def calculate_days_since_last_launch(self):\n",
        "        \"\"\"Calculate days since the last launch for each launch.\"\"\"\n",
        "        for launch in self.launches:\n",
        "            launch_date = datetime.fromisoformat(launch['date_utc'].replace('Z', ''))\n",
        "            days_since = (datetime.utcnow() - launch_date).days\n",
        "            self.days_since_last_launch[launch['id']] = days_since\n",
        "\n",
        "# Instantiate the class and fetch the data\n",
        "spacex_data = SpaceXDataHandler()\n",
        "spacex_data.fetch_launch_data()\n",
        "spacex_data.calculate_days_since_last_launch()\n",
        "print(\"Days since last launch for each launch (sample):\", list(spacex_data.days_since_last_launch.items())[:5])"
      ],
      "execution_count": null,
      "outputs": []
    },
    {
      "cell_type": "markdown",
      "metadata": {},
      "source": [
        "## Step 2: Store Data in SQLite\n",
        "\n",
        "You will now store the launch and rocket data into an SQLite database. This will include creating tables and populating them with data from the SpaceX API."
      ]
    },
    {
      "cell_type": "code",
      "metadata": {},
      "source": [
        "# Connect to SQLite database\n",
        "conn = sqlite3.connect('spacex_data.db')\n",
        "c = conn.cursor()\n",
        "\n",
        "# Create launches table\n",
        "c.execute('''\n",
        "    CREATE TABLE IF NOT EXISTS launches (\n",
        "        launch_id TEXT PRIMARY KEY,\n",
        "        rocket_id TEXT,\n",
        "        launch_date TEXT\n",
        "    )\n",
        "''')\n",
        "\n",
        "# Insert launch data into the database\n",
        "for launch in spacex_data.launches:\n",
        "    c.execute('''\n",
        "        INSERT OR IGNORE INTO launches (launch_id, rocket_id, launch_date)\n",
        "        VALUES (?, ?, ?)\n",
        "    ''', (launch['id'], launch['rocket'], launch['date_utc']))\n",
        "\n",
        "conn.commit()\n",
        "print(\"Launch data inserted into SQLite database.\")"
      ],
      "execution_count": null,
      "outputs": []
    },
    {
      "cell_type": "markdown",
      "metadata": {},
      "source": [
        "## Step 3: Write a Function to Fetch Crew by Launch ID\n",
        "\n",
        "Implement a Python function `get_crew_by_launch_id` that queries the SQLite database to retrieve crew members for a given launch ID.\n",
        "\n",
        "Use the SpaceX API's `crew` endpoint to first populate the crew data."
      ]
    },
    {
      "cell_type": "code",
      "metadata": {},
      "source": [
        "# Fetch and store crew data\n",
        "crew_url = \"https://api.spacexdata.com/v4/crew\"\n",
        "crew_response = requests.get(crew_url)\n",
        "crew_data = crew_response.json()\n",
        "\n",
        "# Create crew table\n",
        "c.execute('''\n",
        "    CREATE TABLE IF NOT EXISTS crew (\n",
        "        crew_id TEXT PRIMARY KEY,\n",
        "        name TEXT,\n",
        "        agency TEXT,\n",
        "        launch_id TEXT\n",
        "    )\n",
        "''')\n",
        "\n",
        "# Insert crew data into the database\n",
        "for member in crew_data:\n",
        "    for launch in member['launches']:\n",
        "        c.execute('''\n",
        "            INSERT OR IGNORE INTO crew (crew_id, name, agency, launch_id)\n",
        "            VALUES (?, ?, ?, ?)\n",
        "        ''', (member['id'], member['name'], member['agency'], launch))\n",
        "\n",
        "conn.commit()\n",
        "print(\"Crew data inserted into SQLite database.\")"
      ],
      "execution_count": null,
      "outputs": []
    },
    {
      "cell_type": "code",
      "metadata": {},
      "source": [
        "# Define the function to fetch crew by launch ID\n",
        "def get_crew_by_launch_id(launch_id):\n",
        "    c.execute('''\n",
        "        SELECT name, agency\n",
        "        FROM crew\n",
        "        WHERE launch_id = ?;\n",
        "    ''', (launch_id,))\n",
        "    return c.fetchall()\n",
        "\n",
        "# Example usage of the function\n",
        "sample_launch_id = spacex_data.launches[0]['id']  # Use a sample launch ID from the fetched data\n",
        "crew = get_crew_by_launch_id(sample_launch_id)\n",
        "print(f\"Crew for launch {sample_launch_id}: {crew}\")"
      ],
      "execution_count": null,
      "outputs": []
    }
  ],
  "metadata": {
    "colab": {
      "name": "SpaceX API Data Ingestion and SQL Analysis (Enhanced).ipynb"
    },
    "kernelspec": {
      "display_name": "Python 3",
      "name": "python3"
    },
    "language_info": {
      "name": "python",
      "version": "3.9.7"
    }
  },
  "nbformat": 4,
  "nbformat_minor": 0
}
