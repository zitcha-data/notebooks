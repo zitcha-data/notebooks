{
  "cells": [
    {
      "cell_type": "markdown",
      "metadata": {},
      "source": [
        "# SpaceX API Data Ingestion and SQL Analysis\n",
        "\n",
        "In this exercise, you will fetch data from the SpaceX API, store it in an SQLite database, and analyze it using SQL.\n",
        "\n",
        "## Objectives\n",
        "\n",
        "1. Understand the relevant SpaceX API endpoints.\n",
        "2. Fetch data from the selected endpoints.\n",
        "3. Store the data in an SQLite database.\n",
        "4. Write SQL queries to analyze the stored data."
      ]
    },
    {
      "cell_type": "markdown",
      "metadata": {},
      "source": [
        "## Step 1: Understand the SpaceX API Endpoints\n",
        "\n",
        "You are tasked with answering the following questions:\n",
        "\n",
        "1. **Most Commonly Used Rocket:** Which rocket has been used the most in SpaceX launches?\n",
        "2. **Most Active Month for Launches:** Which month has the highest number of SpaceX launches?\n",
        "3. **Breakdown of Astronauts by Agency:** How many astronauts, grouped by agency, have been involved in SpaceX crewed missions?\n",
        "\n",
        "To answer these questions, you will need to use the following SpaceX API endpoints:\n",
        "\n",
        "- **Launches:** `/v4/launches`\n",
        "- **Rockets:** `/v4/rockets`\n",
        "- **Crew:** `/v4/crew`\n",
        "\n",
        "You will fetch data from these endpoints, store it in an SQLite database, and then write SQL queries to extract the necessary information."
      ]
    },
    {
      "cell_type": "markdown",
      "metadata": {},
      "source": [
        "## Step 2: Fetch and Store Launch Data\n",
        "\n",
        "First, you need to fetch data about SpaceX launches. This data will help you answer the questions about the most commonly used rocket and the most active month for launches.\n",
        "\n",
        "You will store this data in a table called `launches` with the following schema:\n",
        "\n",
        "- `launch_id` (TEXT PRIMARY KEY)\n",
        "- `rocket_id` (TEXT)\n",
        "- `launch_date` (TEXT)\n",
        "\n",
        "Let's start by fetching the launch data and storing it."
      ]
    },
    {
      "cell_type": "code",
      "metadata": {},
      "source": [
        "import requests\n",
        "import sqlite3\n",
        "import logging\n",
        "\n",
        "# Set up logging\n",
        "logging.basicConfig(level=logging.INFO)\n",
        "\n",
        "# Fetch launch data\n",
        "launches_url = \"https://api.spacexdata.com/v4/launches\"\n",
        "launches_response = requests.get(launches_url)\n",
        "launches_data = launches_response.json()\n",
        "\n",
        "# Connect to SQLite database\n",
        "conn = sqlite3.connect('spacex_data.db')\n",
        "c = conn.cursor()\n",
        "\n",
        "# Create launches table\n",
        "c.execute('''\n",
        "    CREATE TABLE IF NOT EXISTS launches (\n",
        "        launch_id TEXT PRIMARY KEY,\n",
        "        rocket_id TEXT,\n",
        "        launch_date TEXT\n",
        "    )\n",
        "''')\n",
        "\n",
        "# Insert launch data into the database\n",
        "for launch in launches_data:\n",
        "    c.execute('''\n",
        "        INSERT OR IGNORE INTO launches (launch_id, rocket_id, launch_date)\n",
        "        VALUES (?, ?, ?)\n",
        "    ''', (launch['id'], launch['rocket'], launch['date_utc']))\n",
        "\n",
        "conn.commit()\n",
        "logging.info(\"Launch data stored successfully.\")\n"
      ],
      "execution_count": null,
      "outputs": []
    },
    {
      "cell_type": "markdown",
      "metadata": {},
      "source": [
        "## Step 3: Fetch and Store Rocket Data\n",
        "\n",
        "Next, you need to fetch data about SpaceX rockets. This data will help you identify which rocket has been used the most in SpaceX launches.\n",
        "\n",
        "You will store this data in a table called `rockets` with the following schema:\n",
        "\n",
        "- `rocket_id` (TEXT PRIMARY KEY)\n",
        "- `rocket_name` (TEXT)\n",
        "\n",
        "Let's fetch the rocket data and store it."
      ]
    },
    {
      "cell_type": "code",
      "metadata": {},
      "source": [
        "# Fetch rocket data\n",
        "rockets_url = \"https://api.spacexdata.com/v4/rockets\"\n",
        "rockets_response = requests.get(rockets_url)\n",
        "rockets_data = rockets_response.json()\n",
        "\n",
        "# Create rockets table\n",
        "c.execute('''\n",
        "    CREATE TABLE IF NOT EXISTS rockets (\n",
        "        rocket_id TEXT PRIMARY KEY,\n",
        "        rocket_name TEXT\n",
        "    )\n",
        "''')\n",
        "\n",
        "# Insert rocket data into the database\n",
        "for rocket in rockets_data:\n",
        "    c.execute('''\n",
        "        INSERT OR IGNORE INTO rockets (rocket_id, rocket_name)\n",
        "        VALUES (?, ?)\n",
        "    ''', (rocket['id'], rocket['name']))\n",
        "\n",
        "conn.commit()\n",
        "logging.info(\"Rocket data stored successfully.\")\n"
      ],
      "execution_count": null,
      "outputs": []
    },
    {
      "cell_type": "markdown",
      "metadata": {},
      "source": [
        "## Step 4: Fetch and Store Crew Data\n",
        "\n",
        "Finally, you need to fetch data about SpaceX crew members. This data will help you break down the number of astronauts by their agency.\n",
        "\n",
        "You will store this data in a table called `crew` with the following schema:\n",
        "\n",
        "- `crew_id` (TEXT PRIMARY KEY)\n",
        "- `name` (TEXT)\n",
        "- `agency` (TEXT)\n",
        "\n",
        "Let's fetch the crew data and store it."
      ]
    },
    {
      "cell_type": "code",
      "metadata": {},
      "source": [
        "# Fetch crew data\n",
        "crew_url = \"https://api.spacexdata.com/v4/crew\"\n",
        "crew_response = requests.get(crew_url)\n",
        "crew_data = crew_response.json()\n",
        "\n",
        "# Create crew table\n",
        "c.execute('''\n",
        "    CREATE TABLE IF NOT EXISTS crew (\n",
        "        crew_id TEXT PRIMARY KEY,\n",
        "        name TEXT,\n",
        "        agency TEXT\n",
        "    )\n",
        "''')\n",
        "\n",
        "# Insert crew data into the database\n",
        "for member in crew_data:\n",
        "    c.execute('''\n",
        "        INSERT OR IGNORE INTO crew (crew_id, name, agency)\n",
        "        VALUES (?, ?, ?)\n",
        "    ''', (member['id'], member['name'], member['agency']))\n",
        "\n",
        "conn.commit()\n",
        "logging.info(\"Crew data stored successfully.\")\n"
      ],
      "execution_count": null,
      "outputs": []
    },
    {
      "cell_type": "markdown",
      "metadata": {},
      "source": [
        "## Step 5: Analyze the Data\n",
        "\n",
        "Now that you have stored all the necessary data, it's time to analyze it and answer the following questions:\n",
        "\n",
        "1. **Most Commonly Used Rocket:** Which rocket has been used the most in SpaceX launches?\n",
        "2. **Most Active Month for Launches:** Which month has the highest number of SpaceX launches?\n",
        "3. **Breakdown of Astronauts by Agency:** How many astronauts, grouped by agency, have been involved in SpaceX crewed missions?\n",
        "\n",
        "Let's start by writing SQL queries to answer these questions."
      ]
    },
    {
      "cell_type": "code",
      "metadata": {},
      "source": [
        "# Query 1: Most Commonly Used Rocket\n",
        "def query_most_common_rocket():\n",
        "    c.execute('''\n",
        "        SELECT rockets.rocket_name, COUNT(launches.rocket_id) as launch_count\n",
        "        FROM launches\n",
        "        JOIN rockets ON launches.rocket_id = rockets.rocket_id\n",
        "        GROUP BY rockets.rocket_name\n",
        "        ORDER BY launch_count DESC\n",
        "        LIMIT 1;\n",
        "    ''')\n",
        "    result = c.fetchone()\n",
        "    print(f'Most Commonly Used Rocket: {result[0]} with {result[1]} launches')\n",
        "\n",
        "query_most_common_rocket()\n"
      ],
      "execution_count": null,
      "outputs": []
    },
    {
      "cell_type": "code",
      "metadata": {},
      "source": [
        "# Query 2: Most Active Month for Launches\n",
        "def query_most_active_month():\n",
        "    c.execute('''\n",
        "        SELECT strftime('%Y-%m', launch_date) as month, COUNT(*) as launch_count\n",
        "        FROM launches\n",
        "        GROUP BY month\n",
        "        ORDER BY launch_count DESC\n",
        "        LIMIT 1;\n",
        "    ''')\n",
        "    result = c.fetchone()\n",
        "    print(f'Most Active Month: {result[0]} with {result[1]} launches')\n",
        "\n",
        "query_most_active_month()\n"
      ],
      "execution_count": null,
      "outputs": []
    },
    {
      "cell_type": "code",
      "metadata": {},
      "source": [
        "# Query 3: Breakdown of Astronauts by Agency\n",
        "def query_astronauts_by_agency():\n",
        "    c.execute('''\n",
        "        SELECT agency, COUNT(*) as astronaut_count\n",
        "        FROM crew\n",
        "        GROUP BY agency\n",
        "        ORDER BY astronaut_count DESC;\n",
        "    ''')\n",
        "    results = c.fetchall()\n",
        "    print('Breakdown of Astronauts by Agency:')\n",
        "    for result in results:\n",
        "        print(f'{result[0]}: {result[1]} astronauts')\n",
        "\n",
        "query_astronauts_by_agency()\n"
      ],
      "execution_count": null,
      "outputs": []
    },
    {
      "cell_type": "markdown",
      "metadata": {},
      "source": [
        "## Conclusion\n",
        "\n",
        "In this notebook, you successfully:\n",
        "\n",
        "1. Fetched data from the SpaceX API using multiple endpoints.\n",
        "2. Stored the fetched data in an SQLite database.\n",
        "3. Analyzed the data to answer key questions about SpaceX's rockets, launches, and crew members.\n",
        "\n",
        "This exercise demonstrates how to work with real-world APIs, manage data storage, and perform data analysis using SQL."
      ]
    },
    {
      "cell_type": "code",
      "metadata": {},
      "source": [
        "# Close the database connection\n",
        "conn.close()\n",
        "logging.info('Database connection closed.')\n"
      ],
      "execution_count": null,
      "outputs": []
    }
  ],
  "metadata": {
    "colab": {
      "name": "SpaceX API Data Ingestion and SQL Analysis.ipynb"
    },
    "kernelspec": {
      "display_name": "Python 3",
      "name": "python3"
    },
    "language_info": {
      "name": "python",
      "version": "3.9.7"
    }
  },
  "nbformat": 4,
  "nbformat_minor": 0
}
