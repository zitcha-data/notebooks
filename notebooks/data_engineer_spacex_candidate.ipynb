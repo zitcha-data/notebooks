{
  "cells": [
    {
      "cell_type": "markdown",
      "metadata": {},
      "source": [
        "# SpaceX API Data Ingestion and SQL Analysis\n",
        "\n",
        "In this exercise, you will fetch data from the SpaceX API, store it in an SQLite database, and analyze it using SQL.\n",
        "\n",
        "## Objectives\n",
        "\n",
        "1. Understand the relevant SpaceX API endpoints.\n",
        "2. Fetch data from the selected endpoints.\n",
        "3. Store the data in an SQLite database.\n",
        "4. Write SQL queries to analyze the stored data."
      ]
    },
    {
      "cell_type": "markdown",
      "metadata": {},
      "source": [
        "## Step 1: Understand the SpaceX API Endpoints\n",
        "\n",
        "You are tasked with answering the following questions:\n",
        "\n",
        "1. **Most Commonly Used Rocket:** Which rocket has been used the most in SpaceX launches?\n",
        "2. **Most Active Month for Launches:** Which month has the highest number of SpaceX launches?\n",
        "3. **Breakdown of Astronauts by Agency:** How many astronauts, grouped by agency, have been involved in SpaceX crewed missions?\n",
        "\n",
        "To answer these questions, you will need to use the following SpaceX API endpoints:\n",
        "\n",
        "- **Launches:** `/v4/launches`\n",
        "- **Rockets:** `/v4/rockets`\n",
        "- **Crew:** `/v4/crew`\n",
        "\n",
        "You will fetch data from these endpoints, store it in an SQLite database, and then write SQL queries to extract the necessary information."
      ]
    },
    {
      "cell_type": "markdown",
      "metadata": {},
      "source": [
        "## Step 2: Fetch and Store Launch Data\n",
        "\n",
        "First, you need to fetch data about SpaceX launches. This data will help you answer the questions about the most commonly used rocket and the most active month for launches.\n",
        "\n",
        "You will store this data in a table called `launches` with the following schema:\n",
        "\n",
        "- `launch_id` (TEXT PRIMARY KEY)\n",
        "- `rocket_id` (TEXT)\n",
        "- `launch_date` (TEXT)\n",
        "\n",
        "Let's start by fetching the launch data and storing it."
      ]
    },
    {
      "cell_type": "code",
      "execution_count": null,
      "metadata": {},
      "outputs": [],
      "source": [
        "import requests\n",
        "import sqlite3\n",
        "import logging\n",
        "\n",
        "# Set up logging\n",
        "logging.basicConfig(level=logging.INFO)\n",
        "\n",
        "# Fetch launch data\n",
        "launches_url = \"https://api.spacexdata.com/v4/launches\"\n",
        "# fetch data\n",
        "# store data\n",
        "\n",
        "\n",
        "# Connect to SQLite database\n",
        "conn = sqlite3.connect('spacex_data.db')\n",
        "c = conn.cursor()\n",
        "\n",
        "# Create launches table\n",
        "c.execute('''\n",
        "    CREATE TABLE ..\n",
        "    )\n",
        "''')\n",
        "\n",
        "# Insert launch data into the database\n",
        "x:\n",
        "    c.execute('''\n",
        "        SQL INSERT INTO TABLE\n",
        "    ''', (x['x'], x['x'], x['x']))\n",
        "\n",
        "conn.commit()\n",
        "logging.info(\"Launch data stored successfully.\")\n"
      ]
    },
    {
      "cell_type": "markdown",
      "metadata": {},
      "source": [
        "## Step 3: Fetch and Store Rocket Data\n",
        "\n",
        "Next, you need to fetch data about SpaceX rockets. This data will help you identify which rocket has been used the most in SpaceX launches.\n",
        "\n",
        "You will store this data in a table called `rockets` with the following schema:\n",
        "\n",
        "- `rocket_id` (TEXT PRIMARY KEY)\n",
        "- `rocket_name` (TEXT)\n",
        "\n",
        "Let's fetch the rocket data and store it."
      ]
    },
    {
      "cell_type": "code",
      "execution_count": null,
      "metadata": {},
      "outputs": [],
      "source": [
        "# Fetch rocket data\n",
        "rockets_url = \"https://api.spacexdata.com/v4/rockets\"\n",
        "\n"
      ]
    },
    {
      "cell_type": "markdown",
      "metadata": {},
      "source": [
        "## Step 4: Fetch and Store Crew Data\n",
        "\n",
        "Finally, you need to fetch data about SpaceX crew members. This data will help you break down the number of astronauts by their agency.\n",
        "\n",
        "You will store this data in a table called `crew` with the following schema:\n",
        "\n",
        "- `crew_id` (TEXT PRIMARY KEY)\n",
        "- `name` (TEXT)\n",
        "- `agency` (TEXT)\n",
        "\n",
        "Let's fetch the crew data and store it."
      ]
    },
    {
      "cell_type": "code",
      "execution_count": null,
      "metadata": {},
      "outputs": [],
      "source": [
        "# Fetch crew data\n",
        "crew_url = \"https://api.spacexdata.com/v4/crew\"\n",
        "\n"
      ]
    },
    {
      "cell_type": "markdown",
      "metadata": {},
      "source": [
        "## Step 5: Analyze the Data\n",
        "\n",
        "Now that you have stored all the necessary data, it's time to analyze it and answer the following questions:\n",
        "\n",
        "1. **Most Commonly Used Rocket:** Which rocket has been used the most in SpaceX launches?\n",
        "2. **Most Active Month for Launches:** Which month has the highest number of SpaceX launches?\n",
        "3. **Breakdown of Astronauts by Agency:** How many astronauts, grouped by agency, have been involved in SpaceX crewed missions?\n",
        "\n",
        "Let's start by writing SQL queries to answer these questions."
      ]
    },
    {
      "cell_type": "code",
      "execution_count": null,
      "metadata": {},
      "outputs": [],
      "source": [
        "# Query 1: Most Commonly Used Rocket\n",
        "def query_most_common_rocket():\n",
        "    c.execute('''\n",
        "        SQL\n",
        "    ''')\n",
        "    result = c.fetchone()\n",
        "\n",
        "    print(f'Most Commonly Used Rocket:  launches')\n",
        "\n"
      ]
    },
    {
      "cell_type": "code",
      "execution_count": null,
      "metadata": {},
      "outputs": [],
      "source": [
        "# Query 2: Most Active Month for Launches\n"
      ]
    },
    {
      "cell_type": "code",
      "execution_count": null,
      "metadata": {},
      "outputs": [],
      "source": [
        "# Query 3: Breakdown of Astronauts by Agency\n",
        "\n"
      ]
    },
    {
      "cell_type": "markdown",
      "metadata": {},
      "source": [
        "## Conclusion\n",
        "\n",
        "In this notebook, you successfully:\n",
        "\n",
        "1. Fetched data from the SpaceX API using multiple endpoints.\n",
        "2. Stored the fetched data in an SQLite database.\n",
        "3. Analyzed the data to answer key questions about SpaceX's rockets, launches, and crew members.\n",
        "\n",
        "This exercise demonstrates how to work with real-world APIs, manage data storage, and perform data analysis using SQL."
      ]
    },
    {
      "cell_type": "code",
      "execution_count": null,
      "metadata": {},
      "outputs": [],
      "source": [
        "# Close the database connection\n",
        "conn.close()\n",
        "logging.info('Database connection closed.')\n"
      ]
    }
  ],
  "metadata": {
    "colab": {
      "name": "SpaceX API Data Ingestion and SQL Analysis.ipynb"
    },
    "kernelspec": {
      "display_name": "Python 3",
      "name": "python3"
    },
    "language_info": {
      "name": "python",
      "version": "3.9.7"
    }
  },
  "nbformat": 4,
  "nbformat_minor": 0
}
