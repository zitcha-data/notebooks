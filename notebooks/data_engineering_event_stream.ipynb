{
  "cells": [
    {
      "cell_type": "markdown",
      "metadata": {
        "id": "introduction"
      },
      "source": [
        "# Event Stream Processing with SQLite\n",
        "\n",
        "In this exercise, you will process a stream of events and save the results into an SQLite database. This task will test your ability to handle real-time data, manage database interactions, and write clean, modular Python code.\n",
        "\n",
        "## The Event Stream\n",
        "\n",
        "You will simulate a stream of events where each event is a JSON object containing the following fields:\n",
        "- `event_id`: Unique identifier for the event\n",
        "- `event_type`: Type of the event (e.g., 'purchase', 'click')\n",
        "- `event_timestamp`: Timestamp when the event occurred\n",
        "- `user_id`: Identifier of the user who triggered the event\n",
        "- `details`: A dictionary containing additional details relevant to the event type\n",
        "\n",
        "## SQLite Database\n",
        "\n",
        "You will store the processed events in an SQLite database. The database will have a single table named `events`, with the following schema:\n",
        "- `event_id` (TEXT PRIMARY KEY)\n",
        "- `event_type` (TEXT)\n",
        "- `event_timestamp` (TEXT)\n",
        "- `user_id` (TEXT)\n",
        "- `details` (TEXT)\n",
        "- `processed_at` (TEXT)  # New field to store the time when the event is processed\n",
        "\n",
        "## Objectives\n",
        "\n",
        "1. Write a Python function to simulate a stream of events.\n",
        "2. Modify each event to add a new field `processed_at` before storing it in the database.\n",
        "3. Process each event and save it to the SQLite database.\n",
        "4. Implement error handling and logging.\n",
        "5. Query the database to retrieve and display the stored events."
      ]
    },
    {
      "cell_type": "code",
      "metadata": {
        "id": "setup_environment"
      },
      "source": [
        "import sqlite3\n",
        "import json\n",
        "import logging\n",
        "from datetime import datetime\n",
        "import random\n",
        "import time\n",
        "\n",
        "# Set up logging\n",
        "logging.basicConfig(level=logging.INFO, format='%(asctime)s - %(levelname)s - %(message)s')\n",
        "\n",
        "# Create an SQLite database\n",
        "conn = sqlite3.connect('events.db')\n",
        "c = conn.cursor()\n",
        "\n",
        "# Create the events table\n",
        "c.execute('''\n",
        "    CREATE TABLE IF NOT EXISTS events (\n",
        "        event_id TEXT PRIMARY KEY,\n",
        "        event_type TEXT,\n",
        "        event_timestamp TEXT,\n",
        "        user_id TEXT,\n",
        "        details TEXT,\n",
        "        processed_at TEXT\n",
        "    )\n",
        "''')\n",
        "\n",
        "conn.commit()\n",
        "logging.info('Database and table created successfully.')\n"
      ],
      "execution_count": null,
      "outputs": []
    },
    {
      "cell_type": "markdown",
      "metadata": {
        "id": "simulate_event_stream"
      },
      "source": [
        "## Step 1: Simulate Event Stream\n",
        "\n",
        "Write a Python function to simulate a stream of events. Each event should be a JSON object containing the fields described above. The function should generate events at random intervals and yield them one by one."
      ]
    },
    {
      "cell_type": "code",
      "metadata": {
        "id": "generate_events"
      },
      "source": [
        "def simulate_event_stream(num_events=10):\n",
        "    event_types = ['purchase', 'click', 'signup']\n",
        "    for _ in range(num_events):\n",
        "        event = {\n",
        "            'event_id': str(random.randint(100000, 999999)),\n",
        "            'event_type': random.choice(event_types),\n",
        "            'event_timestamp': datetime.now().isoformat(),\n",
        "            'user_id': str(random.randint(1000, 9999)),\n",
        "            'details': json.dumps({'amount': random.uniform(10.0, 100.0) if random.choice(event_types) == 'purchase' else None})\n",
        "        }\n",
        "        yield event\n",
        "        time.sleep(random.uniform(0.1, 0.5))  # Simulate event arrival time\n",
        "\n",
        "# Example usage\n",
        "event_generator = simulate_event_stream(10)\n",
        "for event in event_generator:\n",
        "    print(event)\n"
      ],
      "execution_count": null,
      "outputs": []
    },
    {
      "cell_type": "markdown",
      "metadata": {
        "id": "modify_events"
      },
      "source": [
        "## Step 2: Modify the Events\n",
        "\n",
        "Write a Python function to modify each event by adding a `processed_at` field. This field should store the current timestamp when the event is being processed."
      ]
    },
    {
      "cell_type": "code",
      "metadata": {
        "id": "modify_event"
      },
      "source": [
        "def modify_event(event):\n",
        "    event['processed_at'] = datetime.now().isoformat()\n",
        "    return event\n",
        "\n",
        "# Example usage\n",
        "event = {\n",
        "    'event_id': '123456',\n",
        "    'event_type': 'purchase',\n",
        "    'event_timestamp': '2024-08-09T12:34:56.789012',\n",
        "    'user_id': '9876',\n",
        "    'details': json.dumps({'amount': 50.0})\n",
        "}\n",
        "modified_event = modify_event(event)\n",
        "print(modified_event)\n"
      ],
      "execution_count": null,
      "outputs": []
    },
    {
      "cell_type": "markdown",
      "metadata": {
        "id": "store_events"
      },
      "source": [
        "## Step 3: Process and Store Events\n",
        "\n",
        "Write a function to process each modified event and store it in the SQLite database. The function should handle any exceptions and log any errors that occur during processing."
      ]
    },
    {
      "cell_type": "code",
      "metadata": {
        "id": "process_and_store"
      },
      "source": [
        "def process_and_store_event(event, db_connection):\n",
        "    try:\n",
        "        cursor = db_connection.cursor()\n",
        "        cursor.execute('''\n",
        "            INSERT INTO events (event_id, event_type, event_timestamp, user_id, details, processed_at)\n",
        "            VALUES (?, ?, ?, ?, ?, ?)\n",
        "        ''', (\n",
        "            event['event_id'],\n",
        "            event['event_type'],\n",
        "            event['event_timestamp'],\n",
        "            event['user_id'],\n",
        "            event['details'],\n",
        "            event['processed_at']\n",
        "        ))\n",
        "        db_connection.commit()\n",
        "        logging.info(f\"Event {event['event_id']} stored successfully.\")\n",
        "    except sqlite3.Error as e:\n",
        "        logging.error(f\"Error storing event {event['event_id']}: {e}\")\n",
        "\n",
        "# Example usage\n",
        "for event in simulate_event_stream(10):\n",
        "    modified_event = modify_event(event)\n",
        "    process_and_store_event(modified_event, conn)\n"
      ],
      "execution_count": null,
      "outputs": []
    },
    {
      "cell_type": "markdown",
      "metadata": {
        "id": "query_database"
      },
      "source": [
        "## Step 4: Query the Database\n",
        "\n",
        "Write a function to query the database and retrieve the stored events. Display the results in a formatted way."
      ]
    },
    {
      "cell_type": "code",
      "metadata": {
        "id": "query_db"
      },
      "source": [
        "def query_events(db_connection):\n",
        "    cursor = db_connection.cursor()\n",
        "    cursor.execute('SELECT * FROM events')\n",
        "    rows = cursor.fetchall()\n",
        "    for row in rows:\n",
        "        print(row)\n",
        "\n",
        "# Example usage\n",
        "query_events(conn)\n"
      ],
      "execution_count": null,
      "outputs": []
    },
    {
      "cell_type": "markdown",
      "metadata": {
        "id": "cleanup"
      },
      "source": [
        "## Step 5: Clean Up\n",
        "\n",
        "Close the database connection and perform any necessary cleanup operations."
      ]
    },
    {
      "cell_type": "code",
      "metadata": {
        "id": "close_db"
      },
      "source": [
        "# Close the database connection\n",
        "conn.close()\n",
        "logging.info('Database connection closed.')\n"
      ],
      "execution_count": null,
      "outputs": []
    }
  ],
  "metadata": {
    "colab": {
      "name": "Event Stream Processing with SQLite.ipynb",
      "provenance": []
    },
    "kernelspec": {
      "display_name": "Python 3",
      "name": "python3"
    },
    "language_info": {
      "name": "python",
      "version": "3.9.7"
    }
  },
  "nbformat": 4,
  "nbformat_minor": 0
}
