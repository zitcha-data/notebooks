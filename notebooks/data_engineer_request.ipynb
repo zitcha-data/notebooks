{
  "cells": [
    {
      "cell_type": "markdown",
      "metadata": {},
      "source": [
        "# API Data Ingestion and SQL Analysis\n",
        "\n",
        "In this exercise, you will fetch data from a public API, store it in an SQLite database, and analyze it using SQL.\n",
        "\n",
        "## Objectives\n",
        "\n",
        "1. Fetch data from a public API and parse the JSON response.\n",
        "2. Store the data in an SQLite database.\n",
        "3. Write SQL queries to analyze the stored data."
      ]
    },
    {
      "cell_type": "code",
      "metadata": {},
      "source": [
        "import requests\n",
        "import sqlite3\n",
        "import json\n",
        "import logging\n",
        "from datetime import datetime\n",
        "\n",
        "# Set up logging\n",
        "logging.basicConfig(level=logging.INFO, format='%(asctime)s - %(levelname)s - %(message)s')\n",
        "\n",
        "# Define the API endpoint\n",
        "api_url = \"https://api.coindesk.com/v1/bpi/currentprice.json\"\n",
        "\n",
        "# Make a request to the API\n",
        "response = requests.get(api_url)\n",
        "data = response.json()\n",
        "\n",
        "# Print the fetched data\n",
        "print(json.dumps(data, indent=4))"
      ],
      "execution_count": null,
      "outputs": []
    },
    {
      "cell_type": "markdown",
      "metadata": {},
      "source": [
        "## Step 1: Store the Data\n",
        "\n",
        "Write a function to store the fetched data in an SQLite database. The database should have a table called `prices` with the following schema:\n",
        "- `currency_code` (TEXT)\n",
        "- `rate_float` (REAL)\n",
        "- `updated_at` (TEXT)"
      ]
    },
    {
      "cell_type": "code",
      "metadata": {},
      "source": [
        "def store_data(data):\n",
        "    conn = sqlite3.connect('crypto_prices.db')\n",
        "    c = conn.cursor()\n",
        "    \n",
        "    # Create the prices table\n",
        "    c.execute('''\n",
        "        CREATE TABLE IF NOT EXISTS prices (\n",
        "            currency_code TEXT,\n",
        "            rate_float REAL,\n",
        "            updated_at TEXT\n",
        "        )\n",
        "    ''')\n",
        "    \n",
        "    # Insert data into the table\n",
        "    for currency, details in data['bpi'].items():\n",
        "        c.execute('''\n",
        "            INSERT INTO prices (currency_code, rate_float, updated_at) \n",
        "            VALUES (?, ?, ?)\n",
        "        ''', (\n",
        "            currency,\n",
        "            details['rate_float'],\n",
        "            data['time']['updatedISO']\n",
        "        ))\n",
        "    \n",
        "    conn.commit()\n",
        "    conn.close()\n",
        "    logging.info('Data stored successfully.')\n",
        "\n",
        "# Store the fetched data\n",
        "store_data(data)"
      ],
      "execution_count": null,
      "outputs": []
    },
    {
      "cell_type": "markdown",
      "metadata": {},
      "source": [
        "## Step 2: Analyze the Data\n",
        "\n",
        "Write SQL queries to analyze the data. For example, you might want to find:\n",
        "- The currency with the highest rate.\n",
        "- The currency with the lowest rate.\n",
        "- The average rate across all currencies."
      ]
    },
    {
      "cell_type": "code",
      "metadata": {},
      "source": [
        "def query_data():\n",
        "    conn = sqlite3.connect('crypto_prices.db')\n",
        "    c = conn.cursor()\n",
        "    \n",
        "    # Find the currency with the highest rate\n",
        "    c.execute('SELECT currency_code, rate_float FROM prices ORDER BY rate_float DESC LIMIT 1')\n",
        "    highest = c.fetchone()\n",
        "    print(f'Highest Rate: {highest[0]} at {highest[1]}')\n",
        "    \n",
        "    # Find the currency with the lowest rate\n",
        "    c.execute('SELECT currency_code, rate_float FROM prices ORDER BY rate_float ASC LIMIT 1')\n",
        "    lowest = c.fetchone()\n",
        "    print(f'Lowest Rate: {lowest[0]} at {lowest[1]}')\n",
        "    \n",
        "    # Find the average rate\n",
        "    c.execute('SELECT AVG(rate_float) FROM prices')\n",
        "    average = c.fetchone()\n",
        "    print(f'Average Rate: {average[0]}')\n",
        "    \n",
        "    conn.close()\n",
        "\n",
        "# Run the analysis\n",
        "query_data()"
      ],
      "execution_count": null,
      "outputs": []
    }
  ],
  "metadata": {
    "colab": {
      "name": "API Data Ingestion and SQL Analysis.ipynb"
    },
    "kernelspec": {
      "display_name": "Python 3",
      "name": "python3"
    },
    "language_info": {
      "name": "python",
      "version": "3.9.7"
    }
  },
  "nbformat": 4,
  "nbformat_minor": 0
}
