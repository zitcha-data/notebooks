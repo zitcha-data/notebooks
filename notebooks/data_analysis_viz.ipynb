{
  "cells": [
    {
      "cell_type": "markdown",
      "metadata": {
        "id": "oZjIXgkkR5x4"
      },
      "source": [
        "# Data Analysis and Visualization\n",
        "\n",
        "The retail industry relies heavily on data to make decisions about what products to sell, how to price them, and where to stock them. In this notebook, we will explore the data that we have gathered about the industry store and use it to understand the retail landscape.\n",
        "\n",
        "Data analysis and visualisation can help you understand trends, identify opportunities, and make better-informed decisions.\n",
        "\n",
        "## Industry Data\n",
        "\n",
        "This is a public dataset of [Australian Retail Turnover](https://explore.data.abs.gov.au/vis?lc=en&pg=0&df[ds]=INDUSTRY_TOPICS&df[id]=RT&df[ag]=ABS&df[vs]=1.0.0&pd=2010-01%2C&dq=...AUS.M&ly[cl]=INDUSTRY&ly[rw]=TIME_PERIOD&ly[rs]=MEASURE%2CTSEST&tm=Retail%20Trade). It features monthly estimates of turnover and volumes for retail businesses, including store and online sales. Read more about the dataset [here](https://www.abs.gov.au/statistics/industry/retail-and-wholesale-trade/retail-trade-australia/latest-release).\n",
        "\n",
        "\n",
        "## Tasks\n",
        "1. Load the data into a pandas dataframe\n",
        "2. Isolate the fields that we can use to understand trends of the retail landscape, clean text fields and scale numeric data if necessary\n",
        "3. Plot a chart that shows the total retail turnover for each month\n",
        "4. Identify a retail category in decline and plot a chart that shows the monthly turnover for that category"
      ]
    },
    {
      "cell_type": "code",
      "execution_count": 2,
      "metadata": {
        "id": "NWzyw3ROel0u"
      },
      "outputs": [],
      "source": [
        "import pandas as pd\n",
        "import numpy as np\n",
        "\n",
        "retail = pd.read_csv(\n",
        "    \"https://github.com/zitcha-data/notebooks/raw/main/data/retail_industry.csv\",\n",
        ")"
      ]
    }
  ],
  "metadata": {
    "colab": {
      "name": "Data Science - Retail Segmentation.ipynb",
      "provenance": [],
      "toc_visible": true
    },
    "kernelspec": {
      "display_name": "Python 3.10.8 64-bit",
      "language": "python",
      "name": "python3"
    },
    "language_info": {
      "name": "python",
      "version": "3.10.8"
    },
    "vscode": {
      "interpreter": {
        "hash": "b0fa6594d8f4cbf19f97940f81e996739fb7646882a419484c72d19e05852a7e"
      }
    }
  },
  "nbformat": 4,
  "nbformat_minor": 0
}
